{
 "cells": [
  {
   "cell_type": "markdown",
   "id": "fd0bae89-b8d7-4378-92bb-dda49c509445",
   "metadata": {},
   "source": [
    "# Data Science Tools and Ecosystem"
   ]
  },
  {
   "cell_type": "markdown",
   "id": "48b22baf-5e45-4488-95b4-19bb36546438",
   "metadata": {
    "tags": []
   },
   "source": [
    "In this notebook, Data Science Tools and Ecosystem are summarized"
   ]
  },
  {
   "cell_type": "markdown",
   "id": "8f8bef6d-2bfe-47da-9e10-6c27c03210f6",
   "metadata": {},
   "source": [
    "Objectives:\n",
    "\n",
    "- Scala\n",
    "- Julia\n",
    "- Python"
   ]
  },
  {
   "cell_type": "markdown",
   "id": "d93bd63e-27c8-4c71-83ed-89e343d6e829",
   "metadata": {},
   "source": [
    "Some of the popular languages that Data Scientists use are:\n",
    "\n",
    "1. Python\n",
    "2. Julia\n",
    "3. R"
   ]
  },
  {
   "cell_type": "markdown",
   "id": "e2fcd1be-88e8-44cb-b6a7-fb000d873f5c",
   "metadata": {
    "tags": []
   },
   "source": [
    "Some of the commonly used libraries used by Data Scientists include:\n",
    "    \n",
    "    1. Pandas\n",
    "    2. Matplotlib\n",
    "    3. Numpy"
   ]
  },
  {
   "cell_type": "markdown",
   "id": "15ab2c09-5e4e-4829-af20-18af278e7a08",
   "metadata": {},
   "source": [
    "|Data Science Tools|\n",
    "|------------------|\n",
    "|Jupyter lab|\n",
    "|VS code|\n",
    "|Google Colaboratory|"
   ]
  },
  {
   "cell_type": "markdown",
   "id": "5a6278b1-c1de-4fb0-8038-8dca0eec8796",
   "metadata": {},
   "source": [
    "### Below are a few examples of evaluating arithmetic expressions in Python"
   ]
  },
  {
   "cell_type": "code",
   "execution_count": 7,
   "id": "9ffe9ee3-ad89-4f14-aab4-a1ff953b2778",
   "metadata": {
    "tags": []
   },
   "outputs": [
    {
     "name": "stdout",
     "output_type": "stream",
     "text": [
      "17\n"
     ]
    }
   ],
   "source": [
    "# This a simple arithmetic expression to mutiply then add integers\n",
    "x = 3\n",
    "y = 4\n",
    "z = 5\n",
    "\n",
    "a = (x*y)+z\n",
    "print (a)"
   ]
  },
  {
   "cell_type": "code",
   "execution_count": 10,
   "id": "27a9399a-ab90-4da8-a073-1fb865c5c04d",
   "metadata": {
    "tags": []
   },
   "outputs": [
    {
     "name": "stdout",
     "output_type": "stream",
     "text": [
      "3.3333333333333335\n"
     ]
    }
   ],
   "source": [
    "# This will convert 200 minutes to hours by diving by 60\n",
    "\n",
    "m = 200\n",
    "h = 60\n",
    "\n",
    "c = m/h\n",
    "\n",
    "print (c)"
   ]
  },
  {
   "cell_type": "markdown",
   "id": "ee0d083c-fe5e-46a6-9fcf-ce1de6d421b1",
   "metadata": {},
   "source": [
    "## Author\n",
    "Junaid Akram"
   ]
  }
 ],
 "metadata": {
  "kernelspec": {
   "display_name": "Python",
   "language": "python",
   "name": "conda-env-python-py"
  },
  "language_info": {
   "codemirror_mode": {
    "name": "ipython",
    "version": 3
   },
   "file_extension": ".py",
   "mimetype": "text/x-python",
   "name": "python",
   "nbconvert_exporter": "python",
   "pygments_lexer": "ipython3",
   "version": "3.7.12"
  }
 },
 "nbformat": 4,
 "nbformat_minor": 5
}
